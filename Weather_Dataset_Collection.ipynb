{
 "cells": [
  {
   "cell_type": "code",
   "execution_count": 3,
   "metadata": {},
   "outputs": [],
   "source": [
    "# Dependencies\n",
    "import pandas as pd\n",
    "import requests\n",
    "import json\n",
    "\n",
    "import os\n",
    "import csv\n",
    "import datetime\n",
    "\n",
    "from csv import writer\n",
    "from csv import reader\n",
    "\n",
    "# Hide warning messages in notebook\n",
    "import warnings\n",
    "warnings.filterwarnings('ignore')\n",
    "\n",
    "# pretty print the output\n",
    "from pprint import pprint "
   ]
  },
  {
   "cell_type": "code",
   "execution_count": 8,
   "metadata": {},
   "outputs": [],
   "source": [
    "store_list_df = pd.read_csv('<input.csv>')\n",
    "store_list_df.head()"
   ]
  },
  {
   "cell_type": "code",
   "execution_count": 9,
   "metadata": {},
   "outputs": [],
   "source": [
    "with open('<input.csv>') as csv_file:\n",
    "    csv_reader = csv.reader(csv_file, delimiter=',')\n",
    "    line_count = 0\n",
    "    for row in csv_reader:\n",
    "        if line_count == 0:\n",
    "            print(f'Column names are {\", \".join(row)}')\n",
    "            line_count += 1\n",
    "        else:\n",
    "            print(f'\\t{row[0]}, {row[1]} ,{row[2]},{row[3]},{row[4]},{row[5]}')\n",
    "            line_count += 1\n",
    "    print(f'Processed {line_count} lines.')\n"
   ]
  },
  {
   "cell_type": "code",
   "execution_count": 10,
   "metadata": {},
   "outputs": [],
   "source": [
    "with open('<input.csv>') as csv_file:\n",
    "    csv_reader = csv.reader(csv_file, delimiter=',')\n",
    "    line_count = 0\n",
    "    for row in csv_reader:\n",
    "        if line_count == 0:\n",
    "            print(f'Column names are {\", \".join(row)}')\n",
    "            line_count += 1\n",
    "        else:\n",
    "            print(f'\\t{row[0]}, {row[1]} ,{row[2]},{row[3]},{row[4]}')\n",
    "            base_url = \"https://api.weather.com/v3/wx/hod/conditions/historical/point?pointType=nearest&geocode=\"+row[2]+\",\"+row[3]+\"&startDateTime=\"+row[4]+\"&endDateTime=\"+row[5]+\"&units=e&format=csv&apiKey=<YOUR API KEY>\"\n",
    "            file_name = row[0]+row[1]+\"_\"+row[4]+\"_\"+row[5]+\"_weather_data.csv\"\n",
    "\n",
    "            #Build the query url     \n",
    "            query_url = base_url\n",
    "    \n",
    "            try:\n",
    "               # Get weather data\n",
    "                weather_response = requests.get(url=query_url,\n",
    "                                        headers={'Content-Type': 'application/octet-stream'}\n",
    "                                       )\n",
    "                print(\"Weather_response\",weather_response)\n",
    "                #check for the response 200 then proceed,\n",
    "                if weather_response is not None and weather_response.status_code == 200:\n",
    "                    with open(file_name, 'ab') as csr:\n",
    "                        for chunk in weather_response.iter_content(chunk_size=1024):\n",
    "                            if chunk:\n",
    "                                csr.write(chunk)\n",
    "\n",
    "            except (KeyError, IndexError):\n",
    "                print(\"Missing field/result... skipping.\")\n",
    "                print(\"----------\")\n",
    "                line_count += 1\n",
    "    print(f'Processed {line_count} lines.')"
   ]
  },
  {
   "cell_type": "code",
   "execution_count": 11,
   "metadata": {
    "scrolled": true
   },
   "outputs": [],
   "source": [
    "# List all files in a directory using os.listdir\n",
    "basepath = '<YOUR DIRECTORY PATH>'\n",
    "for entry in os.listdir(basepath):\n",
    "    if os.path.isfile(os.path.join(basepath, entry)):\n",
    "        #Create a directory with out_2021\n",
    "        with open(os.path.join(basepath, entry), 'r') as read_obj, \\\n",
    "                open('out_2021/weather_2021.csv', 'a', newline='') as write_obj:\n",
    "        # Create a csv.reader object from the input file object\n",
    "            csv_reader = reader(read_obj)\n",
    "            next(csv_reader, None)\n",
    "        # Create a csv.writer object from the output file object\n",
    "            csv_writer = writer(write_obj)\n",
    "        # Read each row of the input csv file as list\n",
    "            for row in csv_reader:\n",
    "                # To select the ROWS with T23:00 hour(Select particular row)\n",
    "                if 'T23:' in row[3]:\n",
    "                    # Append the default text in the row / list\n",
    "                    if len(entry) == 51:\n",
    "                        row.append(entry[3:8])\n",
    "                        csv_writer.writerow(row)\n",
    "                    elif len(entry) == 50:\n",
    "                        row.append(entry[2:7])\n",
    "                        csv_writer.writerow(row)\n",
    "                    else:\n",
    "                        csv_writer.writerow(row)\n",
    "            print('end of file')"
   ]
  },
  {
   "cell_type": "code",
   "execution_count": null,
   "metadata": {},
   "outputs": [],
   "source": []
  }
 ],
 "metadata": {
  "kernelspec": {
   "display_name": "Python 3",
   "language": "python",
   "name": "python3"
  },
  "language_info": {
   "codemirror_mode": {
    "name": "ipython",
    "version": 3
   },
   "file_extension": ".py",
   "mimetype": "text/x-python",
   "name": "python",
   "nbconvert_exporter": "python",
   "pygments_lexer": "ipython3",
   "version": "3.8.5"
  }
 },
 "nbformat": 4,
 "nbformat_minor": 4
}
